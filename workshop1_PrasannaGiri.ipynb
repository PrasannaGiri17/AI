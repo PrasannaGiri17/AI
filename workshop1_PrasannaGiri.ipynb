{
  "nbformat": 4,
  "nbformat_minor": 0,
  "metadata": {
    "colab": {
      "provenance": [],
      "authorship_tag": "ABX9TyOKUYzx+Dqk4IpOAGGWqif0",
      "include_colab_link": true
    },
    "kernelspec": {
      "name": "python3",
      "display_name": "Python 3"
    },
    "language_info": {
      "name": "python"
    }
  },
  "cells": [
    {
      "cell_type": "markdown",
      "metadata": {
        "id": "view-in-github",
        "colab_type": "text"
      },
      "source": [
        "<a href=\"https://colab.research.google.com/github/PrasannaGiri17/AI/blob/main/workshop1_PrasannaGiri.ipynb\" target=\"_parent\"><img src=\"https://colab.research.google.com/assets/colab-badge.svg\" alt=\"Open In Colab\"/></a>"
      ]
    },
    {
      "cell_type": "markdown",
      "source": [
        "Prasanna Giri\n",
        "2408641"
      ],
      "metadata": {
        "id": "VISLqOtXCpEp"
      }
    },
    {
      "cell_type": "markdown",
      "source": [
        "**4.1 Warming Up Exercise: Basic Vector and Matrix Operation with Numpy.**"
      ],
      "metadata": {
        "id": "mVQisUrARyaJ"
      }
    },
    {
      "cell_type": "markdown",
      "source": [
        "**4.1 Initialize an empty array with size 2X2.**"
      ],
      "metadata": {
        "id": "cHTm9HbLQA4_"
      }
    },
    {
      "cell_type": "code",
      "execution_count": null,
      "metadata": {
        "colab": {
          "base_uri": "https://localhost:8080/"
        },
        "id": "MR4AwtxIPvhh",
        "outputId": "8815c257-5506-4970-bc86-8ab47b75adf5"
      },
      "outputs": [
        {
          "output_type": "stream",
          "name": "stdout",
          "text": [
            "[[4.94934606e-310 0.00000000e+000]\n",
            " [2.90435030e-144 6.70304410e-310]]\n"
          ]
        }
      ],
      "source": [
        "import numpy as np\n",
        "\n",
        "array_1=np.empty((2,2))\n",
        "print(array_1)"
      ]
    },
    {
      "cell_type": "markdown",
      "source": [
        "**4.2 Initialize an all one array with size 4X2.**\n",
        "\n"
      ],
      "metadata": {
        "id": "wnBH0aFLWgfd"
      }
    },
    {
      "cell_type": "code",
      "source": [
        "array_2=np.ones((4, 2))\n",
        "print(array_2)"
      ],
      "metadata": {
        "colab": {
          "base_uri": "https://localhost:8080/"
        },
        "id": "bZ1PMpvqR3vc",
        "outputId": "7f523f5d-520e-4dd7-f1a4-cd83200f0b68"
      },
      "execution_count": null,
      "outputs": [
        {
          "output_type": "stream",
          "name": "stdout",
          "text": [
            "[[1. 1.]\n",
            " [1. 1.]\n",
            " [1. 1.]\n",
            " [1. 1.]]\n"
          ]
        }
      ]
    },
    {
      "cell_type": "markdown",
      "source": [
        "**4.3 Return a new array of given shape and type, filled with fill value.**"
      ],
      "metadata": {
        "id": "jhM-OTGuSvWs"
      }
    },
    {
      "cell_type": "code",
      "source": [
        "array_3=np.full((2,7),fill_value=15)\n",
        "print(array_3)"
      ],
      "metadata": {
        "colab": {
          "base_uri": "https://localhost:8080/"
        },
        "id": "u-o383YSSygU",
        "outputId": "87a3c139-33c2-4103-913a-f8a2173772cd"
      },
      "execution_count": null,
      "outputs": [
        {
          "output_type": "stream",
          "name": "stdout",
          "text": [
            "[[15 15 15 15 15 15 15]\n",
            " [15 15 15 15 15 15 15]]\n"
          ]
        }
      ]
    },
    {
      "cell_type": "markdown",
      "source": [
        "**4.4 Return a new array of zeros with same shape and type as a given array. **"
      ],
      "metadata": {
        "id": "M4zDjv-aTbrr"
      }
    },
    {
      "cell_type": "code",
      "source": [
        "array_first=np.arange(1,5).reshape((2,2))\n",
        "array_4=np.zeros_like(array_first)\n",
        "print(\"---------------result--------------\")\n",
        "print(array_first)\n",
        "print(\"\")\n",
        "print(array_4)"
      ],
      "metadata": {
        "colab": {
          "base_uri": "https://localhost:8080/"
        },
        "id": "REjtfI_xTc0i",
        "outputId": "b9129c40-3694-4a3b-9dc7-dde02dd20e93"
      },
      "execution_count": null,
      "outputs": [
        {
          "output_type": "stream",
          "name": "stdout",
          "text": [
            "---------------result--------------\n",
            "[[1 2]\n",
            " [3 4]]\n",
            "\n",
            "[[0 0]\n",
            " [0 0]]\n"
          ]
        }
      ]
    },
    {
      "cell_type": "markdown",
      "source": [
        "**4.5 Return a new array of ones with same shape and type as a given array.**"
      ],
      "metadata": {
        "id": "hIUcyyK8U8IX"
      }
    },
    {
      "cell_type": "code",
      "source": [
        "array_first1=np.arange(11,15).reshape((2,2))\n",
        "array_5=np.ones_like(array_first1)\n",
        "print(\"---------------result--------------\")\n",
        "print(array_first)\n",
        "print(\"\")\n",
        "print(array_5)"
      ],
      "metadata": {
        "colab": {
          "base_uri": "https://localhost:8080/"
        },
        "id": "qC59hFVEU-qO",
        "outputId": "9e278e17-a5d5-4875-f453-9dfe8511d569"
      },
      "execution_count": null,
      "outputs": [
        {
          "output_type": "stream",
          "name": "stdout",
          "text": [
            "---------------result--------------\n",
            "[[11 12]\n",
            " [13 14]]\n",
            "\n",
            "[[1 1]\n",
            " [1 1]]\n"
          ]
        }
      ]
    },
    {
      "cell_type": "markdown",
      "source": [
        "**4.6 For an existing list new_list = [1,2,3,4] convert to an numpy array.**"
      ],
      "metadata": {
        "id": "EB98V5i7VTaZ"
      }
    },
    {
      "cell_type": "code",
      "source": [
        "new_list=[1,2,3,4]\n",
        "array_6=np.array(new_list)\n",
        "print(array_6)"
      ],
      "metadata": {
        "colab": {
          "base_uri": "https://localhost:8080/"
        },
        "id": "xXqEYDc6ViFx",
        "outputId": "87d0840d-a359-480f-b358-517da4a89a95"
      },
      "execution_count": null,
      "outputs": [
        {
          "output_type": "stream",
          "name": "stdout",
          "text": [
            "[1 2 3 4]\n"
          ]
        }
      ]
    },
    {
      "cell_type": "markdown",
      "source": [
        "**4.1.1 Problem - 2: Array Manipulation: Numerical Ranges and Array indexing:**"
      ],
      "metadata": {
        "id": "IM1y_ejyWIy8"
      }
    },
    {
      "cell_type": "markdown",
      "source": [
        "**1.Create an array with values ranging from 10 to 49.**"
      ],
      "metadata": {
        "id": "tyy-T4DrWM9v"
      }
    },
    {
      "cell_type": "code",
      "source": [
        "array1=np.arange(10,50)\n",
        "print(array1)"
      ],
      "metadata": {
        "colab": {
          "base_uri": "https://localhost:8080/"
        },
        "id": "meB7PuTTWzdh",
        "outputId": "8b285880-d444-45a8-9412-6d2e766389bb"
      },
      "execution_count": null,
      "outputs": [
        {
          "output_type": "stream",
          "name": "stdout",
          "text": [
            "[10 11 12 13 14 15 16 17 18 19 20 21 22 23 24 25 26 27 28 29 30 31 32 33\n",
            " 34 35 36 37 38 39 40 41 42 43 44 45 46 47 48]\n"
          ]
        }
      ]
    },
    {
      "cell_type": "markdown",
      "source": [
        "**2. Create a 3X3 matrix with values ranging from 0 to 8.**"
      ],
      "metadata": {
        "id": "C5GNt4ZGXAJL"
      }
    },
    {
      "cell_type": "code",
      "source": [
        "array2=np.arange(0,9).reshape((3,3))\n",
        "print(array2)"
      ],
      "metadata": {
        "colab": {
          "base_uri": "https://localhost:8080/"
        },
        "id": "KAin37HkXAv_",
        "outputId": "5d89aa1f-34f5-4306-e668-86d5800415d6"
      },
      "execution_count": null,
      "outputs": [
        {
          "output_type": "stream",
          "name": "stdout",
          "text": [
            "[[0 1 2]\n",
            " [3 4 5]\n",
            " [6 7 8]]\n"
          ]
        }
      ]
    },
    {
      "cell_type": "markdown",
      "source": [
        "**3. Create a 3X3 identity matrix.**"
      ],
      "metadata": {
        "id": "g3RkwHp6TXXU"
      }
    },
    {
      "cell_type": "code",
      "source": [
        "array3=np.eye(3)\n",
        "print(array3)"
      ],
      "metadata": {
        "colab": {
          "base_uri": "https://localhost:8080/"
        },
        "id": "ZO_5D3kdXbe9",
        "outputId": "a8c378b3-8d6b-4184-d35d-4f2444a7295e"
      },
      "execution_count": null,
      "outputs": [
        {
          "output_type": "stream",
          "name": "stdout",
          "text": [
            "[[1. 0. 0.]\n",
            " [0. 1. 0.]\n",
            " [0. 0. 1.]]\n"
          ]
        }
      ]
    },
    {
      "cell_type": "markdown",
      "source": [
        "**4.Create a random array of size 30 and find the mean of the array.**"
      ],
      "metadata": {
        "id": "t0Cdjm2DZswv"
      }
    },
    {
      "cell_type": "code",
      "source": [
        "array4=np.random.random(79)\n",
        "mean_array=array4.mean()\n",
        "print(mean_array)"
      ],
      "metadata": {
        "colab": {
          "base_uri": "https://localhost:8080/"
        },
        "id": "Y8qW08DiZr40",
        "outputId": "3e748950-3007-46fc-8263-001de264a569"
      },
      "execution_count": null,
      "outputs": [
        {
          "output_type": "stream",
          "name": "stdout",
          "text": [
            "0.4966708574050226\n"
          ]
        }
      ]
    },
    {
      "cell_type": "markdown",
      "source": [
        "**5.Create a 10X10 array with random values and find the minimum and maximum values.**"
      ],
      "metadata": {
        "id": "djuet9tebHIO"
      }
    },
    {
      "cell_type": "code",
      "source": [
        "array5=np.random.random((10, 10))\n",
        "print(array5)\n",
        "print(f\"{array5.min()} is the minimum value in array\")\n",
        "print(f\"{array5.max()} is the maximum value in array\")"
      ],
      "metadata": {
        "colab": {
          "base_uri": "https://localhost:8080/"
        },
        "id": "3AxRJTG6bH1v",
        "outputId": "d81df8b4-0c7e-45e5-a410-3cf5c42236a7"
      },
      "execution_count": null,
      "outputs": [
        {
          "output_type": "stream",
          "name": "stdout",
          "text": [
            "[[0.81070916 0.67712995 0.45156567 0.26418343 0.78896488 0.49770271\n",
            "  0.04362361 0.22363368 0.21514126 0.70798824]\n",
            " [0.44011272 0.40267977 0.64109365 0.8845021  0.35254451 0.38441557\n",
            "  0.4922037  0.67642985 0.10908477 0.58924223]\n",
            " [0.25987633 0.72311156 0.03722081 0.05840472 0.97889326 0.85605631\n",
            "  0.46715633 0.17257533 0.50838112 0.05482542]\n",
            " [0.14043676 0.20253305 0.37727201 0.23989272 0.2588076  0.82020091\n",
            "  0.29640363 0.72619193 0.50778517 0.17796909]\n",
            " [0.07587511 0.31531456 0.86130139 0.92648219 0.42867304 0.23557941\n",
            "  0.3813853  0.05508857 0.97435284 0.37646233]\n",
            " [0.23769631 0.99684321 0.40150293 0.45010681 0.9355672  0.07400119\n",
            "  0.37595164 0.99866761 0.01934762 0.69530924]\n",
            " [0.55183837 0.62557379 0.12190693 0.92925302 0.69361011 0.00343201\n",
            "  0.66332584 0.20084034 0.16220244 0.61059449]\n",
            " [0.0076538  0.4553001  0.58355674 0.44671347 0.33357484 0.63983029\n",
            "  0.9179541  0.72213543 0.50271451 0.51829144]\n",
            " [0.04150124 0.73188963 0.85516168 0.22323439 0.89348951 0.64513869\n",
            "  0.7462931  0.96205051 0.81301555 0.53269451]\n",
            " [0.48886297 0.27309573 0.9212352  0.23814581 0.17744658 0.85194437\n",
            "  0.56384523 0.04532762 0.16682899 0.14634742]]\n",
            "0.0034320083779183497 is the minimum value in array\n",
            "0.9986676067284307 is the maximum value in array\n"
          ]
        }
      ]
    },
    {
      "cell_type": "markdown",
      "source": [
        "6.Create a zero array of size 10 and replace 5th element with 1."
      ],
      "metadata": {
        "id": "MGaUes0zeCPf"
      }
    },
    {
      "cell_type": "code",
      "source": [
        "array6=np.zeros(10)\n",
        "print(array6)\n",
        "print(\"\")\n",
        "array6[4]=1\n",
        "print(array6)\n",
        "\n"
      ],
      "metadata": {
        "colab": {
          "base_uri": "https://localhost:8080/"
        },
        "id": "RdXLBz1VeDLW",
        "outputId": "aa244f03-1a13-4e7a-d0b1-7e4d693ae4c3"
      },
      "execution_count": null,
      "outputs": [
        {
          "output_type": "stream",
          "name": "stdout",
          "text": [
            "[0. 0. 0. 0. 0. 0. 0. 0. 0. 0.]\n",
            "\n",
            "[0. 0. 0. 0. 5. 0. 0. 0. 0. 0.]\n"
          ]
        }
      ]
    },
    {
      "cell_type": "markdown",
      "source": [
        "**7.Reverse an array arr = [1,2,0,0,4,0].**"
      ],
      "metadata": {
        "id": "c-ZKbIsifeWf"
      }
    },
    {
      "cell_type": "code",
      "source": [
        "array7=np.array([1,2,0,0,4,0])\n",
        "res_array=array7[::-1]\n",
        "print(res_array)"
      ],
      "metadata": {
        "colab": {
          "base_uri": "https://localhost:8080/"
        },
        "id": "ObiZNVymfd5F",
        "outputId": "58152504-de1b-468c-d02d-2e4b2f5058dc"
      },
      "execution_count": null,
      "outputs": [
        {
          "output_type": "stream",
          "name": "stdout",
          "text": [
            "[0 4 0 0 2 1]\n"
          ]
        }
      ]
    },
    {
      "cell_type": "markdown",
      "source": [
        "**8. Create a 2d array with 1 on border and 0 inside.**"
      ],
      "metadata": {
        "id": "M2CfxAH3TyZP"
      }
    },
    {
      "cell_type": "code",
      "source": [
        "border_array = np.ones((4, 4))\n",
        "border_array[1:-1, 1:-1] = 0\n",
        "print(\"result = \\n\", border_array)"
      ],
      "metadata": {
        "colab": {
          "base_uri": "https://localhost:8080/"
        },
        "id": "Jwe5_smu3lsm",
        "outputId": "6c60963a-7668-449d-c8bd-36f3e607193e"
      },
      "execution_count": null,
      "outputs": [
        {
          "output_type": "stream",
          "name": "stdout",
          "text": [
            "result = \n",
            " [[1. 1. 1. 1.]\n",
            " [1. 0. 0. 1.]\n",
            " [1. 0. 0. 1.]\n",
            " [1. 1. 1. 1.]]\n"
          ]
        }
      ]
    },
    {
      "cell_type": "markdown",
      "source": [
        "**9. Create a 8X8 matrix and fill it with a checkerboard pattern.**"
      ],
      "metadata": {
        "id": "3FDWsmzI5phj"
      }
    },
    {
      "cell_type": "code",
      "source": [
        "array8=np.indices((8, 8)).sum(axis=0) % 2\n",
        "print(\"result = \\n\",array8)\n",
        "\n"
      ],
      "metadata": {
        "colab": {
          "base_uri": "https://localhost:8080/"
        },
        "id": "5L28-k8X5o-C",
        "outputId": "617e0b79-d1d4-4775-da5e-e7bb8e3d5395"
      },
      "execution_count": null,
      "outputs": [
        {
          "output_type": "stream",
          "name": "stdout",
          "text": [
            "result = \n",
            " [[0 1 0 1 0 1 0 1]\n",
            " [1 0 1 0 1 0 1 0]\n",
            " [0 1 0 1 0 1 0 1]\n",
            " [1 0 1 0 1 0 1 0]\n",
            " [0 1 0 1 0 1 0 1]\n",
            " [1 0 1 0 1 0 1 0]\n",
            " [0 1 0 1 0 1 0 1]\n",
            " [1 0 1 0 1 0 1 0]]\n"
          ]
        }
      ]
    },
    {
      "cell_type": "markdown",
      "source": [
        "3.Array Operations:"
      ],
      "metadata": {
        "id": "5wfxszcx68dx"
      }
    },
    {
      "cell_type": "code",
      "source": [
        "import numpy as np\n",
        "x = np.array([[1,2],[3,5]])\n",
        "y = np.array([[5,6],[7,8]])\n",
        "v = np.array([9,10])\n",
        "w = np.array([11,12])\n",
        "\n",
        "# 1. Add the two array.\n",
        "print(\"Add : \\n\",np.add(x,y))\n",
        "\n",
        "#2. Subtract the two array.\n",
        "print(\"subtract : \\n\",np.subtract(x,y))\n",
        "\n",
        "# 3. Multiply the array with any integers of your choice.\n",
        "print(\"multiply : \\n\",np.multiply(3,x))\n",
        "\n",
        "# 4. Find the square of each element of the array.\n",
        "print(\"square : \\n\",np.square(x))\n",
        "\n",
        "# 5. Find the dot product between: v(and)w ; x(and)v ; x(and)y.\n",
        "print(\"dot product of v(and)w : \",np.dot(v,w))\n",
        "print(\"dot product of x(and)v : \\n\",np.dot(x,v))\n",
        "print(\"dot product of x(and)y : \\n\",np.dot(x,y))\n",
        "\n",
        "\n",
        "# 6. Concatenate x(and)y along row and Concatenate v(and)w along column.\n",
        "concat_row=np.concatenate((x, y), axis=0)\n",
        "concat_col=np.vstack((v, w)).T\n",
        "print(\"Concatenate x(and)y along row : \\n\",concat_row)\n",
        "print(\"Concatenate v(and)w along column : \\n\",concat_col)\n",
        "\n",
        "# 7. Concatenate x(and)v; if you get an error, observe and explain why did you get the error?\n",
        "try:\n",
        "    concat_xv = np.concatenate((x, v), axis=0)  # Attempt to concatenate along rows\n",
        "    print(\"\\nConcatenation of x and v:\\n\", concat_xv)\n",
        "except ValueError as e:\n",
        "    print(\"\\nError during concatenation of x and v:\", e)\n",
        "\n",
        "# error because v and x didn't have matching dimensions\n",
        "# Fixing the error by reshaping v to match x's dimensions\n",
        "v_reshaped = v[np.newaxis, :]  # Reshape v to (1, 2)\n",
        "concat_xv_fixed = np.concatenate((x, v_reshaped), axis=0)\n",
        "print(\"\\nConcatenation of x and reshaped v:\\n\", concat_xv_fixed)\n",
        "\n",
        "\n",
        "\n"
      ],
      "metadata": {
        "colab": {
          "base_uri": "https://localhost:8080/"
        },
        "id": "Ta8o2mL67Ez8",
        "outputId": "7ca05690-00fa-4162-a002-694b2d197543"
      },
      "execution_count": null,
      "outputs": [
        {
          "output_type": "stream",
          "name": "stdout",
          "text": [
            "Add : \n",
            " [[ 6  8]\n",
            " [10 13]]\n",
            "subtract : \n",
            " [[-4 -4]\n",
            " [-4 -3]]\n",
            "multiply : \n",
            " [[ 3  6]\n",
            " [ 9 15]]\n",
            "square : \n",
            " [[ 1  4]\n",
            " [ 9 25]]\n",
            "dot product of v(and)w :  219\n",
            "dot product of x(and)v : \n",
            " [29 77]\n",
            "dot product of x(and)y : \n",
            " [[19 22]\n",
            " [50 58]]\n",
            "Concatenate x(and)y along row : \n",
            " [[1 2]\n",
            " [3 5]\n",
            " [5 6]\n",
            " [7 8]]\n",
            "Concatenate v(and)w along column : \n",
            " [[ 9 11]\n",
            " [10 12]]\n",
            "\n",
            "Error during concatenation of x and v: all the input arrays must have same number of dimensions, but the array at index 0 has 2 dimension(s) and the array at index 1 has 1 dimension(s)\n",
            "\n",
            "Concatenation of x and reshaped v:\n",
            " [[ 1  2]\n",
            " [ 3  5]\n",
            " [ 9 10]]\n"
          ]
        }
      ]
    },
    {
      "cell_type": "markdown",
      "source": [
        "4. Matrix operations"
      ],
      "metadata": {
        "id": "udpR06nc_6Fs"
      }
    },
    {
      "cell_type": "markdown",
      "source": [
        "4.1 prove:"
      ],
      "metadata": {
        "id": "QG9NJ9CoBUaU"
      }
    },
    {
      "cell_type": "code",
      "source": [
        "import numpy as np\n",
        "A = np.array([[3,4],[7,8]])\n",
        "B = np.array([[5,3],[2,1]])\n",
        "\n",
        "# 1. Prove A.A−1 = I.\n",
        "inverse_of_A=np.linalg.inv(A)\n",
        "product=np.dot(A,inverse_of_A)\n",
        "print(\"A.A−1 = I \\n\",product)\n",
        "\n",
        "\n",
        "# 2. Prove AB ̸= BA.\n",
        "product_of_A_B=np.dot(A,B)\n",
        "product_of_B_A=np.dot(B,A)\n",
        "print(\"A.B = \\n\",product_of_A_B)\n",
        "print(\"B.A = \\n\",product_of_B_A)\n",
        "check=np.array_equal(product_of_A_B,product_of_B_A)\n",
        "print(\"A.B = B.A ? ->\",check)\n",
        "\n",
        "# 3. Prove (AB)ᵀ = Bᵀ . Aᵀ\n",
        "AB_T=np.transpose(product_of_A_B)\n",
        "B_T=np.transpose(B)\n",
        "A_T=np.transpose(A)\n",
        "product_of_BT_AT=np.dot(B_T,A_T)\n",
        "print(\"(AB)ᵀ = \\n\",AB_T)\n",
        "print(\" Bᵀ. Aᵀ = \\n\",product_of_BT_AT)\n",
        "check=np.array_equal(AB_T,product_of_BT_AT)\n",
        "print(\"(AB)ᵀ = Bᵀ . Aᵀ ? ->\",check)\n",
        "\n",
        "\n",
        "\n",
        "\n",
        "\n"
      ],
      "metadata": {
        "colab": {
          "base_uri": "https://localhost:8080/"
        },
        "id": "IecpUvGs_5pt",
        "outputId": "54b41aae-3987-4ac3-abed-1ac111aa0ab2"
      },
      "execution_count": 1,
      "outputs": [
        {
          "output_type": "stream",
          "name": "stdout",
          "text": [
            "A.A−1 = I \n",
            " [[1.00000000e+00 0.00000000e+00]\n",
            " [1.77635684e-15 1.00000000e+00]]\n",
            "A.B = \n",
            " [[23 13]\n",
            " [51 29]]\n",
            "B.A = \n",
            " [[36 44]\n",
            " [13 16]]\n",
            "A.B = B.A ? -> False\n",
            "(AB)ᵀ = \n",
            " [[23 51]\n",
            " [13 29]]\n",
            " Bᵀ. Aᵀ = \n",
            " [[23 51]\n",
            " [13 29]]\n",
            "(AB)ᵀ = Bᵀ . Aᵀ ? -> True\n"
          ]
        }
      ]
    },
    {
      "cell_type": "markdown",
      "source": [
        "4.2 Solve the following system of Linear equation using Inverse Methods."
      ],
      "metadata": {
        "id": "r_E9kWbCDr1N"
      }
    },
    {
      "cell_type": "code",
      "source": [
        "# Solve the following system of Linear equation using Inverse Methods.\n",
        "# 2x − 3y + z = −1\n",
        "# x − y + 2z = −3\n",
        "# 3x + y − z = 9\n",
        "# {Hint: First use Numpy array to represent the equation in Matrix form. Then Solve for: AX = B}\n",
        "A = np.array([[2, -3, 1],\n",
        "              [1, -1, 2],\n",
        "              [3, 1, -1]])\n",
        "\n",
        "B = np.array([-1, -3, 9])\n",
        "\n",
        "det_A = (A[0, 0] * (A[1, 1] * A[2, 2] - A[1, 2] * A[2, 1]) -\n",
        "         A[0, 1] * (A[1, 0] * A[2, 2] - A[1, 2] * A[2, 0]) +\n",
        "         A[0, 2] * (A[1, 0] * A[2, 1] - A[1, 1] * A[2, 0]))\n",
        "if det_A != 0:\n",
        "  cofactor_matrix = np.array([\n",
        "    [(A[1, 1] * A[2, 2] - A[1, 2] * A[2, 1]), -(A[1, 0] * A[2, 2] - A[1, 2] * A[2, 0]), (A[1, 0] * A[2, 1] - A[1, 1] * A[2, 0])],\n",
        "    [-(A[0, 1] * A[2, 2] - A[0, 2] * A[2, 1]), (A[0, 0] * A[2, 2] - A[0, 2] * A[2, 0]), -(A[0, 0] * A[2, 1] - A[0, 1] * A[2, 0])],\n",
        "    [(A[0, 1] * A[1, 2] - A[0, 2] * A[1, 1]), -(A[0, 0] * A[1, 2] - A[0, 2] * A[1, 0]), (A[0, 0] * A[1, 1] - A[0, 1] * A[1, 0])]\n",
        "])\n",
        "  adjoint_A = cofactor_matrix.T\n",
        "  inverse_of_A = adjoint_A / det_A\n",
        "  print(\"Inverse of A:\\n\", inverse_of_A)\n",
        "  X = np.dot(inverse_of_A,B)\n",
        "  print(\"Solution = \",X)\n",
        "\n",
        "else:\n",
        "  print(\"No solution exists as the determinant of A is zero.\")\n"
      ],
      "metadata": {
        "colab": {
          "base_uri": "https://localhost:8080/"
        },
        "id": "hAVKzBN4-rAl",
        "outputId": "29cc6cb1-993c-4cad-fbb0-9d8ac5a8385c"
      },
      "execution_count": null,
      "outputs": [
        {
          "output_type": "stream",
          "name": "stdout",
          "text": [
            "Inverse of A:\n",
            " [[ 0.05263158  0.10526316  0.26315789]\n",
            " [-0.36842105  0.26315789  0.15789474]\n",
            " [-0.21052632  0.57894737 -0.05263158]]\n",
            "Solution =  [ 2.  1. -2.]\n"
          ]
        }
      ]
    },
    {
      "cell_type": "code",
      "source": [
        "# Solve the following system of Linear equation using Inverse Methods.\n",
        "# 2x − 3y + z = −1\n",
        "# x − y + 2z = −3\n",
        "# 3x + y − z = 9\n",
        "# solve the above equation using np.linalg.inv function\n",
        "A = np.array([[2, -3, 1],\n",
        "              [1, -1, 2],\n",
        "              [3, 1, -1]])\n",
        "\n",
        "B = np.array([-1, -3, 9])\n",
        "\n",
        "det_A=np.linalg.det(A)\n",
        "# AX = B\n",
        "# or,X= A⁻¹ * B\n",
        "if det_A != 0:\n",
        "    inverse_of_A = np.linalg.inv(A)\n",
        "    X = np.dot(inverse_of_A, B)\n",
        "    print(\"Solution = \",X)\n",
        "else:\n",
        "  print(\"No solution exists as the determinant of A is zero.\")"
      ],
      "metadata": {
        "colab": {
          "base_uri": "https://localhost:8080/"
        },
        "id": "J36RZ0yKDq6X",
        "outputId": "114f88da-df07-4a3f-905a-7365c1ac4523"
      },
      "execution_count": null,
      "outputs": [
        {
          "output_type": "stream",
          "name": "stdout",
          "text": [
            "Solution =  [ 2.  1. -2.]\n"
          ]
        }
      ]
    },
    {
      "cell_type": "markdown",
      "source": [
        "**4.2 Experiment : How Fast is Numpy**"
      ],
      "metadata": {
        "id": "dyExc2DXQaIY"
      }
    },
    {
      "cell_type": "markdown",
      "source": [
        "**1. Element-wise Add**"
      ],
      "metadata": {
        "id": "eHyBdwPyUfH3"
      }
    },
    {
      "cell_type": "code",
      "source": [
        "import time\n",
        "\n",
        "#Using Python Lists, perform element-wise addition of two lists of size 1, 000, 000. Measure\n",
        "#and Print the time taken for this operation.\n",
        "list1=[i for i in range(1000000)]\n",
        "list2=[i for i in range(1000000)]\n",
        "start_time=time.time()\n",
        "result=[list1[i]+list2[i] for i in range(len(list1))]\n",
        "end_time=time.time()\n",
        "time_taken=end_time-start_time\n",
        "print(f\"time taken by python list = {time_taken} second\")\n",
        "\n",
        "#Using Numpy Arrays, Repeat the calculation and measure and print the time taken for this\n",
        "#operation.\n",
        "array_1=np.array(list1)\n",
        "array_2=np.array(list2)\n",
        "start_time=time.time()\n",
        "result=array_1+array_2\n",
        "end_time=time.time()\n",
        "time_taken=end_time-start_time\n",
        "print(f\"time taken by numpy array = {time_taken} second\")\n"
      ],
      "metadata": {
        "id": "bopsOP4bUc2e",
        "colab": {
          "base_uri": "https://localhost:8080/"
        },
        "outputId": "092d8e94-2238-424d-abff-5372c991af16"
      },
      "execution_count": null,
      "outputs": [
        {
          "output_type": "stream",
          "name": "stdout",
          "text": [
            "time taken by python list = 0.1400609016418457 second\n",
            "time taken by numpy array = 0.004258632659912109 second\n"
          ]
        }
      ]
    },
    {
      "cell_type": "markdown",
      "source": [
        "**2. Element-wise Multiplication**"
      ],
      "metadata": {
        "id": "Vl6z0DmUGkub"
      }
    },
    {
      "cell_type": "code",
      "source": [
        "import time\n",
        "\n",
        "#Using Python Lists, perform element-wise multiplication of two lists of size 1, 000, 000. Mea-sure and Print the time taken for this operation.\n",
        "list1=[i for i in range(1000000)]\n",
        "list2=[i for i in range(1000000)]\n",
        "start_time=time.time()\n",
        "result=[list1[i]*list2[i] for i in range(len(list1))]\n",
        "end_time=time.time()\n",
        "time_taken=end_time-start_time\n",
        "print(f\"time taken by python list = {time_taken} second\")\n",
        "\n",
        "#Using Numpy Arrays, Repeat the calculation and measure and print the time taken for this operation.\n",
        "array_1=np.array(list1)\n",
        "array_2=np.array(list2)\n",
        "start_time=time.time()\n",
        "result=array_1*array_2\n",
        "end_time=time.time()\n",
        "time_taken=end_time-start_time\n",
        "print(f\"time taken by numpy array = {time_taken} second\")"
      ],
      "metadata": {
        "colab": {
          "base_uri": "https://localhost:8080/"
        },
        "id": "QcVIQVDwGATz",
        "outputId": "07472598-5860-4bbd-a86f-5218c8887365"
      },
      "execution_count": null,
      "outputs": [
        {
          "output_type": "stream",
          "name": "stdout",
          "text": [
            "time taken by python list = 0.1457204818725586 second\n",
            "time taken by numpy array = 0.002432584762573242 second\n"
          ]
        }
      ]
    },
    {
      "cell_type": "markdown",
      "source": [
        "**3. Dot Product**"
      ],
      "metadata": {
        "id": "qf5vuMv7GlJT"
      }
    },
    {
      "cell_type": "code",
      "source": [
        "import time\n",
        "\n",
        "#Using Python Lists, compute the dot product of two lists of size 1, 000, 000. Measure and Print the time taken for this operation.\n",
        "list1=[i for i in range(1000000)]\n",
        "list2=[i for i in range(1000000)]\n",
        "start_time=time.time()\n",
        "result=sum(list1[i] * list2[i] for i in range(len(list1)))\n",
        "end_time=time.time()\n",
        "time_taken=end_time-start_time\n",
        "print(f\"time taken by python list = {time_taken} second\")\n",
        "\n",
        "#Using Numpy Arrays, Repeat the calculation and measure and print the time taken for this operation.\n",
        "array_1=np.array(list1)\n",
        "array_2=np.array(list2)\n",
        "start_time=time.time()\n",
        "result=np.dot(array_1,array_2)\n",
        "end_time=time.time()\n",
        "time_taken=end_time-start_time\n",
        "print(f\"time taken by numpy array = {time_taken} second\")"
      ],
      "metadata": {
        "colab": {
          "base_uri": "https://localhost:8080/"
        },
        "id": "BiD4vtDRGQOj",
        "outputId": "5709df97-1d1e-42dd-d42d-f9d1b00f3dc5"
      },
      "execution_count": null,
      "outputs": [
        {
          "output_type": "stream",
          "name": "stdout",
          "text": [
            "time taken by python list = 0.13955354690551758 second\n",
            "time taken by numpy array = 0.002029895782470703 second\n"
          ]
        }
      ]
    },
    {
      "cell_type": "markdown",
      "source": [
        "**4. Matrix Multiplication**"
      ],
      "metadata": {
        "id": "PVF3dZGRGlhm"
      }
    },
    {
      "cell_type": "code",
      "source": [
        "import time\n",
        "\n",
        "#Using Python lists, perform matrix multiplication of two matrices of size 1000x1000. Measure and print the time taken for this operation.\n",
        "print(\"4. Matrix Multiplication\")\n",
        "size = 100\n",
        "\n",
        "\n",
        "matrix_1 = [[i for i in range(size)] for _ in range(size)]\n",
        "matrix_2 = [[j for j in range(size)] for _ in range(size)]\n",
        "\n",
        "start_time = time.time()\n",
        "result_matrix = [[sum(a * b for a, b in zip(row, col)) for col in zip(*matrix_2)] for row in matrix_1]\n",
        "end_time = time.time()\n",
        "time_taken = end_time - start_time\n",
        "print(f\"time taken by python list = {time_taken} second\")\n",
        "\n",
        "# Using NumPy arrays, perform matrix multiplication of two matrices of size 1000x1000. Measure and print the time taken for this operation.\n",
        "matrix1_np = np.array(matrix_1)\n",
        "matrix2_np = np.array(matrix_2)\n",
        "\n",
        "start_time = time.time()\n",
        "result_matrix_np = np.dot(matrix1_np, matrix2_np)\n",
        "end_time = time.time()\n",
        "time_taken = end_time - start_time\n",
        "print(f\"time taken by python list = {time_taken} second\")"
      ],
      "metadata": {
        "colab": {
          "base_uri": "https://localhost:8080/"
        },
        "id": "K5R8YuHDGRI8",
        "outputId": "e4079881-2d3d-4a56-b4a5-a8a39bf0093a"
      },
      "execution_count": null,
      "outputs": [
        {
          "output_type": "stream",
          "name": "stdout",
          "text": [
            "4. Matrix Multiplication\n",
            "time taken by python list = 0.2183678150177002 second\n",
            "time taken by python list = 0.001772165298461914 second\n"
          ]
        }
      ]
    }
  ]
}